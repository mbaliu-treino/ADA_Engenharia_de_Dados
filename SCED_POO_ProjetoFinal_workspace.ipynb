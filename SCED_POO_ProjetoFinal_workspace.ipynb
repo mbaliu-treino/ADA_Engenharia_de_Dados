{
  "nbformat": 4,
  "nbformat_minor": 0,
  "metadata": {
    "colab": {
      "provenance": [],
      "toc_visible": true,
      "include_colab_link": true
    },
    "kernelspec": {
      "name": "python3",
      "display_name": "Python 3"
    },
    "language_info": {
      "name": "python"
    }
  },
  "cells": [
    {
      "cell_type": "markdown",
      "metadata": {
        "id": "view-in-github",
        "colab_type": "text"
      },
      "source": [
        "<a href=\"https://colab.research.google.com/github/mbaliu-treino/ADA_Engenharia_de_Dados/blob/main/SCED_POO_ProjetoFinal_workspace.ipynb\" target=\"_parent\"><img src=\"https://colab.research.google.com/assets/colab-badge.svg\" alt=\"Open In Colab\"/></a>"
      ]
    },
    {
      "cell_type": "markdown",
      "source": [
        "# Prog. Orientada a Objetos - Desafio Final\n",
        "\n"
      ],
      "metadata": {
        "id": "ZqRBDHY6XS8i"
      }
    },
    {
      "cell_type": "markdown",
      "source": [
        "## Descrição do Trabalho\n",
        "\n",
        "Implementar uma aplicação para uma Farmácia que vende produtos através de e-commerce.\n",
        "\n",
        "O trabalho deve ser feito individual ou em grupos(definido pelo professor e/ou conjunto com a turma).\n",
        "\n"
      ],
      "metadata": {
        "id": "fYzBO5wdXU3y"
      }
    },
    {
      "cell_type": "markdown",
      "source": [
        "## Funcionlidades\n",
        "\n",
        "A farmácia precisa dos seguintes serviços (que devem ser disponibilizados para escolha do usuário através de um menu feito no console. Não é necessário implementar interface gráfica):\n",
        "\n",
        "1. Deverá conter um **cadastro** de clientes, no qual a busca se dará por CPF (sem pontuação)\n",
        "\n",
        "1. Deverá conter um **cadastro** de medicamentos, no qual a busca se dará pelo nome, fabricante ou descrição parcial de acordo com o tipo de medicamento. Os medicamentos poderão ser Quimioterápicos ou Fitoterápicos. Os medicamentos Quimioterápicos deverão ter a informação sobre se são vendidos apenas mediante receita ou não (Ex: remédios tarja preta e antibióticos).\n",
        "\n",
        "1. Através do sistema deverá ser possível efetuar **vendas**, e estas serão realizadas apenas para clientes cadastrados no sistema.\n",
        "\n",
        "1. Durante a **venda**, haverá 20% de desconto para clientes idosos (acima de 65 anos), e 10% de desconto nas compras acima de 150 reais. Os descontos não são cumulativos, e deve ser dado sempre o desconto mais alto caso haja conflito.\n",
        "\n",
        "1. Durante a **venda** de remédios Quimioterápicos, se um dos remédios for do tipo controlado (que exige apresentação de receita para a compra), o sistema deverá emitir um alerta ao atendente questionando se o mesmo verificou a receita do respectivo remédio. Deverá ser informado no alerta o nome do remédio controlado.\n",
        "\n",
        "1. Deverá ser possível emitir **relatórios**:\n",
        "    - De listagem de clientes, cadastrados por nome, em ordem alfabética crescrente (A-Z), especificando os dados do cliente\n",
        "    - De listagem de medicamentos, por ordem alfabética\n",
        "    - De listagem de medicamentos Quimioterápicos ou Fitoterápicos\n",
        "    - Estatísticas dos atendimentos realizados no dia (considere o dia como o tempo que o menu está em execução. Quando for sair do programa, deve ser emitido este relatório) contendo:\n",
        "        - Remédio mais vendido, contendo a quantidade e o valor total\n",
        "        - Quantidade de pessoas atendidas\n",
        "        - Número de remédios Quimioterápicos vendidos no dia, contendo a quantidade e o valor\n",
        "        - Número de remédios Fitoterápicos vendidos no dia, contendo a quantidade e o valor\n",
        "\n",
        "\n"
      ],
      "metadata": {
        "id": "T7YjL7g4XV-7"
      }
    },
    {
      "cell_type": "markdown",
      "source": [
        "## Requisitos mínimos a serem observados na modelagem\n",
        "\n",
        "Existem 5 classes obrigatórias no seu projeto: **Clientes**, **Medicamentos Quimioterápicos**, **Medicamentos Fitoterápicos**, **Laboratórios** e **Vendas**. Elas devem ser usadas para organizar o projeto, e devem conter **no mínimo** os detalhes abaixo:\n",
        "\n",
        "- Clientes\n",
        "    - Identificador (CPF)\n",
        "    - Nome\n",
        "    - Data de nascimento\n",
        "\n",
        "- Medicamentos Quimioterápicos\n",
        "    - Nome\n",
        "    - Principal composto\n",
        "    - Laboratório\n",
        "    - Descrição\n",
        "    - Necessita receita\n",
        "\n",
        "- Medicamentos Fitoterápicos\n",
        "    - Nome\n",
        "    - Principal composto\n",
        "    - Laboratório\n",
        "    - Descrição\n",
        "\n",
        "- Laboratório\n",
        "    - Nome\n",
        "    - Endereço\n",
        "    - Telefone para contato\n",
        "    - Cidade\n",
        "    - Estado\n",
        "\n",
        "- Vendas\n",
        "    - Data e hora da venda\n",
        "    - Produtos vendidos\n",
        "    - Cliente\n",
        "    - Valor total\n",
        "\n"
      ],
      "metadata": {
        "id": "2urUPsMvXatD"
      }
    },
    {
      "cell_type": "markdown",
      "source": [
        "### Importante:\n",
        "Como \"banco de dados\" temporário para armazenar os dados sugerimos **listas** ou **dicionários** (o que for mais simpĺes de implementar). Não recomendamos bancos de dados (relacionais ou não relacionais) ou arquivos, visto que estas estruturas não são o foco deste módulo.\n",
        "\n"
      ],
      "metadata": {
        "id": "cYWTy64SXb-g"
      }
    },
    {
      "cell_type": "markdown",
      "source": [
        "## Critérios de avaliação\n",
        "\n",
        "| Item a ser avaliado | Pontuação | Comentários |\n",
        "| ------------------- | --------- | ----------- |\n",
        "| Observância de todos os itens solicitados | 0-4 | 0 - Implementou até 20% do solicitado; &nbsp; 1 - Implementou até 40% do solicitado; &nbsp; 2 - Implementou até 60% do solicitado; &nbsp; 3 - Implementou até 80% do solicitado; &nbsp; 4 - Implementou acima de 80% do solicitado. |\n",
        "| Organização do código e uso de orientação a objetos | 0-3 | 0 - Sem orientação a objetos; &nbsp; 1 - Pouca orientação a objetos; &nbsp; 2 - Média orientação a objetos; &nbsp; 3 - Utilizou bem a orientação a objetos,\n",
        "| Documentação do código | 0-1 | o - Não documentado; &nbsp; 0,5 - Parcialmente documentado; &nbsp; 1 - Todos métodos e classes documentados;\n",
        "| Funcionamento do programa | 0-2 | 0 - Programa não funciona; &nbsp; 1 - Funciona parcialmente e/ou com ajustes; &nbsp; 2 - Funciona"
      ],
      "metadata": {
        "id": "LMFew6UOXdVU"
      }
    },
    {
      "cell_type": "markdown",
      "source": [
        "# POO - Desafio Final - Execução\n",
        "\n",
        "\n"
      ],
      "metadata": {
        "id": "kEgQr5j0Xi4U"
      }
    },
    {
      "cell_type": "markdown",
      "source": [
        "## Cadastro de Clientes"
      ],
      "metadata": {
        "id": "FC7JyNKzXqee"
      }
    },
    {
      "cell_type": "code",
      "source": [
        "from __future__ import annotations\n",
        "from typing import Optional\n",
        "#TODO>>> Proteger a edição dos objetos dentro do dicionário\n",
        "\n",
        "class CadastroClientes:\n",
        "    def __init__(self):\n",
        "        self.__cadastro_clientes = {}\n",
        "\n",
        "    ## @property\n",
        "    # def _cadastro_clientes(self):\n",
        "    #     \"\"\"Método Property: mostra o cadastro. É uma operação técnica, logo ela é protegida.\"\"\"\n",
        "    #     return self.__cadastro_clientes.copy()  # COPY para evitar de alterar a estrutura do banco de dados\n",
        "\n",
        "    def adicionar_cliente(self, obj_cliente: 'Cliente') -> None:\n",
        "        \"\"\" Adiciona um objeto cliente ao banco de cadastros (__cadastro_clientes: Lista). \"\"\"\n",
        "        self.__cadastro_clientes[obj_cliente.cpf] = obj_cliente\n",
        "\n",
        "    def mostrar_clientes(self) -> List[Cliente]:\n",
        "        \"\"\" Retorna todos clientes do cadastro. \"\"\"\n",
        "        return [cliente for cliente in self.__cadastro_clientes]\n",
        "\n",
        "    def buscar_cliente_por_cpf(self, cpf: str) -> Optional[Cliente]:\n",
        "        \"\"\" Retorna o objeto de Cliente do CPF buscado. Caso nenhum cliente seja encontrado\n",
        "        Será retornado None.\n",
        "\n",
        "        Parâmetros\n",
        "        ----------\n",
        "            cpf : str\n",
        "                CPF a ser buscado no cadastro de usuários.\n",
        "\n",
        "        Retorno\n",
        "        -------\n",
        "            Cliente(obj)\n",
        "                None caso não encontre nenhum clinte com o CPF.\n",
        "        \"\"\"\n",
        "\n",
        "        if cpf in self.__cadastro_clientes.keys():\n",
        "            return self.__cadastro_clientes[cpf]\n",
        "        else:\n",
        "            return None"
      ],
      "metadata": {
        "id": "wx82UJAeRmmN"
      },
      "execution_count": null,
      "outputs": []
    },
    {
      "cell_type": "code",
      "source": [
        "# Teste de CadastroClientes\n",
        "\n",
        "cadastro_teste = CadastroClientes()\n",
        "\n",
        "# Adiciona cliente\n",
        "cadastro_teste.adicionar_cliente(cliente1)\n",
        "cadastro_teste.adicionar_cliente(cliente2)\n",
        "\n",
        "# Mostra do cadastro\n",
        "print('CADASTRO BRUTO:\\n',  cadastro_teste._cadastro_clientes)\n",
        "print('CADASTRO LÓGICO:\\n', cadastro_teste.mostrar_clientes())\n",
        "\n",
        "# TESTE DE BUSCA DE CPF\n",
        "print('\\nTESTE DE BUSCA DE CPF')\n",
        "print(cadastro_teste.buscar_cliente_por_cpf('1'*8))\n",
        "print(cadastro_teste.buscar_cliente_por_cpf('1'*11))"
      ],
      "metadata": {
        "colab": {
          "base_uri": "https://localhost:8080/"
        },
        "id": "CFKChOqjaRqv",
        "outputId": "826e12fc-f4e8-4893-cf7a-43fe930c607b"
      },
      "execution_count": null,
      "outputs": [
        {
          "output_type": "stream",
          "name": "stdout",
          "text": [
            "CADASTRO BRUTO:\n",
            " {'00000000000': <__main__.Cliente object at 0x7c5802140fa0>, '11111111111': <__main__.Cliente object at 0x7c5802141120>}\n",
            "CADASTRO LÓGICO:\n",
            " ['00000000000', '11111111111']\n",
            "\n",
            "TESTE DE BUSCA DE CPF\n",
            "CPF buscado não encontrado!\n",
            "None\n",
            "<__main__.Cliente object at 0x7c5802141120>\n"
          ]
        }
      ]
    },
    {
      "cell_type": "code",
      "source": [
        "# Teste de CadastroClientes\n",
        "\n",
        "cadastro_teste = CadastroClientes()\n",
        "# Adiciona cliente\n",
        "cadastro_teste.adicionar_cliente(cliente1)\n",
        "# Mostra do cadastro\n",
        "print(cadastro_teste._cadastro_clientes)\n",
        "\n",
        "# Altera cadastro\n",
        "\"\"\"Com a função COPY, o dicionário não é mais editável\"\"\"\n",
        "cadastro_teste._cadastro_clientes['VIRUS'] = ''\n",
        "print(cadastro_teste._cadastro_clientes)"
      ],
      "metadata": {
        "colab": {
          "base_uri": "https://localhost:8080/"
        },
        "id": "Lzmyp8IPW-0w",
        "outputId": "90774712-d165-4dec-97b9-267905b79176"
      },
      "execution_count": null,
      "outputs": [
        {
          "output_type": "stream",
          "name": "stdout",
          "text": [
            "{'00000000000': <__main__.Cliente object at 0x7c5802140fa0>}\n",
            "{'00000000000': <__main__.Cliente object at 0x7c5802140fa0>}\n"
          ]
        }
      ]
    },
    {
      "cell_type": "markdown",
      "source": [
        "## Cliente"
      ],
      "metadata": {
        "id": "aoUbJefTs7G4"
      }
    },
    {
      "cell_type": "markdown",
      "source": [
        "+ Validar formato da data\n",
        "+ Validar CPF\n",
        "    * Código verificador\n",
        "    * 11 digitos? (Colocar 0 à esquerda)\n",
        "+ Adicionar histórico de compras"
      ],
      "metadata": {
        "id": "dP8xEH58tPoh"
      }
    },
    {
      "cell_type": "markdown",
      "source": [
        "*  A relação com o banco de cadastros: deve ser atribuído ao ser criado, ou pode ser um atributo de classe?"
      ],
      "metadata": {
        "id": "WbD7OE2b0Ljc"
      }
    },
    {
      "cell_type": "code",
      "source": [
        "# entidades.py\n",
        "from __future__ import annotations\n",
        "from datetime import datetime, date\n",
        "from typing import List\n",
        "\n",
        "# ERROR CLASS\n",
        "class CPF_Error(Exception):\n",
        "    pass\n",
        "\n",
        "\n",
        "# CLASSES\n",
        "class Cliente:\n",
        "    cadastro_obj = CadastroClientes()\n",
        "\n",
        "    def __init__(self, cpf: str, nome: str, data_nascimento: str):\n",
        "        \"\"\"ARGS\n",
        "            data_nascimento: str ('01/01/1990')\n",
        "        \"\"\"\n",
        "        # Valida o CPF\n",
        "        cpf_str = cpf.zfill(11)\n",
        "        if self.cpf_valido(cpf_str):\n",
        "            self.__cpf: str = cpf_str\n",
        "        else:\n",
        "            raise CPF_Error(f'O CPF inserido ({cpf_str}) é inválido! CPF não existente.')\n",
        "\n",
        "        self.nome: str = nome\n",
        "        self.__data_nascimento: date = self.casting_data_nascimento( data_nascimento )\n",
        "        self.__historico_compras: List = []\n",
        "\n",
        "        self.cadastro_obj.adicionar_cliente(self)  # <<<\n",
        "\n",
        "\n",
        "    @property\n",
        "    def idade(self) -> int:\n",
        "        \"\"\"Retorna o cálculo da idade.\"\"\"\n",
        "        hoje = datetime.today()\n",
        "        idade = hoje.year - self.data_nascimento.year\n",
        "        # Correção do mês\n",
        "        # if\n",
        "        return idade\n",
        "\n",
        "    @staticmethod\n",
        "    def verificar_cv_cpf(cpf_str: str):\n",
        "        # Obtém os número em Integer\n",
        "        numeros = [int(numero) for numero in cpf_str]\n",
        "\n",
        "        # Validação do primeiro dígito verificador\n",
        "        soma_dos_produtos = sum( a*b for a, b in zip(numeros[0:9], range(10, 1, -1)) )\n",
        "        CV_1o = (soma_dos_produtos * 10 % 11) % 10\n",
        "        if numeros[9] != CV_1o:\n",
        "            return False\n",
        "\n",
        "        # Validação do segundo dígito verificador\n",
        "        soma_dos_produtos = sum(a*b for a, b in zip(numeros[0:10], range(11, 1, -1)))\n",
        "        CV_2o = (soma_dos_produtos * 10 % 11) % 10\n",
        "        if numeros[10] != CV_2o:\n",
        "            return False\n",
        "        return True\n",
        "\n",
        "    @classmethod\n",
        "    def cpf_valido(cls, cpf_str: str) -> bool:\n",
        "        \"\"\"Validar de CPF. Verifica o tamnho e o sufixo de verificação.\"\"\"\n",
        "\n",
        "        if len(cpf_str) != 11:\n",
        "            # raise CPF_Error('O CPF inserido é inválido! Número de digitos incompatível.')\n",
        "            return False\n",
        "        elif not cls.verificar_cv_cpf(cpf_str):\n",
        "            return False\n",
        "        else:\n",
        "            return True\n",
        "\n",
        "\n",
        "    @classmethod\n",
        "    def casting_data_nascimento(cls, data_nascimento_str: str) -> date:\n",
        "        \"\"\"Transforma o string da data de nascimento.\"\"\"\n",
        "        if '/' in data_nascimento_str:\n",
        "            return datetime.strptime(data_nascimento_str, '%d/%m/%Y').date()\n",
        "        else:\n",
        "            return date.fromisoformat(data_nascimento_str)\n",
        "\n",
        "\n",
        "    @property\n",
        "    def cpf(self) -> str:\n",
        "        return self.__cpf\n",
        "\n",
        "    @property\n",
        "    def data_nascimento(self) -> date:\n",
        "        return self.__data_nascimento\n",
        "\n",
        "\n",
        "    @property\n",
        "    def historico_compras(self) -> List[Venda]:\n",
        "        return self.__historico_compras\n",
        "\n",
        "    def ADD_compra(self, operacao_de_venda: Venda) -> None:\n",
        "        self.__historico_compras.append(operacao_de_venda)"
      ],
      "metadata": {
        "id": "pkcULHzlXl6p"
      },
      "execution_count": null,
      "outputs": []
    },
    {
      "cell_type": "code",
      "source": [
        "# TESTE >> Cliente\n",
        "\n",
        "# Criação de objeto\n",
        "print('TESTE CRIAÇÃO DE OBJETO')\n",
        "cA = Cliente('1'*11, 'Marcelo', '1/04/1990')\n",
        "cB = Cliente('191', 'BB_pessoal', '1/04/1900')\n",
        "cC = Cliente('2'*11, 'Rodrigo', '15/08/2000')\n",
        "print(f'{cA=}')\n",
        "print(f'{cA.idade=}')\n",
        "\n",
        "\n",
        "# TESTE >> CPF\n",
        "print('\\nTESTE DE CPF')\n",
        "# Verificação de CPF criado\n",
        "print(f'{cA.cpf=}')\n",
        "\n",
        "# Setting do CPF\n",
        "print(\"cA.cpf = '0'\", '>>> AttributeError: cant set attribute cpf')\n",
        "## >>> AttributeError: can't set attribute 'cpf'\n",
        "\n",
        "# Entrada errada de CPF\n",
        "try:\n",
        "    cCPF_errado = Cliente('111', 'Marcelo', '1/04/1990')\n",
        "    ## >>> CPF_Error: O CPF inserido é inválido! CPF inexistente.\n",
        "except CPF_Error as e:\n",
        "    print(e)\n",
        "\n",
        "\n",
        "# TESTE >> idade\n",
        "print('\\nTESTE DE IDADE')\n",
        "print(f'{cA.data_nascimento=}')\n",
        "Cliente('1'*11, 'Marcelo', '1/04/19901')  # ValueError"
      ],
      "metadata": {
        "colab": {
          "base_uri": "https://localhost:8080/",
          "height": 546
        },
        "id": "8v17X8lwY791",
        "outputId": "94a69fbb-5200-4c65-bc8b-a18ab13cd038"
      },
      "execution_count": null,
      "outputs": [
        {
          "output_type": "stream",
          "name": "stdout",
          "text": [
            "TESTE CRIAÇÃO DE OBJETO\n",
            "cA=<__main__.Cliente object at 0x7ed18fddb3d0>\n",
            "cA.idade=33\n",
            "\n",
            "TESTE DE CPF\n",
            "cA.cpf='11111111111'\n",
            "cA.cpf = '0' >>> AttributeError: cant set attribute cpf\n",
            "O CPF inserido (00000000111) é inválido! CPF não existente.\n",
            "\n",
            "TESTE DE IDADE\n",
            "cA.data_nascimento=datetime.date(1990, 4, 1)\n"
          ]
        },
        {
          "output_type": "error",
          "ename": "ValueError",
          "evalue": "ignored",
          "traceback": [
            "\u001b[0;31m---------------------------------------------------------------------------\u001b[0m",
            "\u001b[0;31mValueError\u001b[0m                                Traceback (most recent call last)",
            "\u001b[0;32m<ipython-input-51-7bbfefb44cd4>\u001b[0m in \u001b[0;36m<cell line: 32>\u001b[0;34m()\u001b[0m\n\u001b[1;32m     30\u001b[0m \u001b[0mprint\u001b[0m\u001b[0;34m(\u001b[0m\u001b[0;34m'\\nTESTE DE IDADE'\u001b[0m\u001b[0;34m)\u001b[0m\u001b[0;34m\u001b[0m\u001b[0;34m\u001b[0m\u001b[0m\n\u001b[1;32m     31\u001b[0m \u001b[0mprint\u001b[0m\u001b[0;34m(\u001b[0m\u001b[0;34mf'{cA.data_nascimento=}'\u001b[0m\u001b[0;34m)\u001b[0m\u001b[0;34m\u001b[0m\u001b[0;34m\u001b[0m\u001b[0m\n\u001b[0;32m---> 32\u001b[0;31m \u001b[0mCliente\u001b[0m\u001b[0;34m(\u001b[0m\u001b[0;34m'1'\u001b[0m\u001b[0;34m*\u001b[0m\u001b[0;36m11\u001b[0m\u001b[0;34m,\u001b[0m \u001b[0;34m'Marcelo'\u001b[0m\u001b[0;34m,\u001b[0m \u001b[0;34m'1/04/19901'\u001b[0m\u001b[0;34m)\u001b[0m  \u001b[0;31m# ValueError\u001b[0m\u001b[0;34m\u001b[0m\u001b[0;34m\u001b[0m\u001b[0m\n\u001b[0m",
            "\u001b[0;32m<ipython-input-46-ced3a768f03c>\u001b[0m in \u001b[0;36m__init__\u001b[0;34m(self, cpf, nome, data_nascimento)\u001b[0m\n\u001b[1;32m     25\u001b[0m \u001b[0;34m\u001b[0m\u001b[0m\n\u001b[1;32m     26\u001b[0m         \u001b[0mself\u001b[0m\u001b[0;34m.\u001b[0m\u001b[0mnome\u001b[0m\u001b[0;34m:\u001b[0m \u001b[0mstr\u001b[0m \u001b[0;34m=\u001b[0m \u001b[0mnome\u001b[0m\u001b[0;34m\u001b[0m\u001b[0;34m\u001b[0m\u001b[0m\n\u001b[0;32m---> 27\u001b[0;31m         \u001b[0mself\u001b[0m\u001b[0;34m.\u001b[0m\u001b[0m__data_nascimento\u001b[0m\u001b[0;34m:\u001b[0m \u001b[0mdate\u001b[0m \u001b[0;34m=\u001b[0m \u001b[0mself\u001b[0m\u001b[0;34m.\u001b[0m\u001b[0mcasting_data_nascimento\u001b[0m\u001b[0;34m(\u001b[0m \u001b[0mdata_nascimento\u001b[0m \u001b[0;34m)\u001b[0m\u001b[0;34m\u001b[0m\u001b[0;34m\u001b[0m\u001b[0m\n\u001b[0m\u001b[1;32m     28\u001b[0m         \u001b[0mself\u001b[0m\u001b[0;34m.\u001b[0m\u001b[0m__historico_compras\u001b[0m\u001b[0;34m:\u001b[0m \u001b[0mList\u001b[0m \u001b[0;34m=\u001b[0m \u001b[0;34m[\u001b[0m\u001b[0;34m]\u001b[0m\u001b[0;34m\u001b[0m\u001b[0;34m\u001b[0m\u001b[0m\n\u001b[1;32m     29\u001b[0m \u001b[0;34m\u001b[0m\u001b[0m\n",
            "\u001b[0;32m<ipython-input-46-ced3a768f03c>\u001b[0m in \u001b[0;36mcasting_data_nascimento\u001b[0;34m(cls, data_nascimento_str)\u001b[0m\n\u001b[1;32m     75\u001b[0m         \u001b[0;34m\"\"\"Transforma o string da data de nascimento.\"\"\"\u001b[0m\u001b[0;34m\u001b[0m\u001b[0;34m\u001b[0m\u001b[0m\n\u001b[1;32m     76\u001b[0m         \u001b[0;32mif\u001b[0m \u001b[0;34m'/'\u001b[0m \u001b[0;32min\u001b[0m \u001b[0mdata_nascimento_str\u001b[0m\u001b[0;34m:\u001b[0m\u001b[0;34m\u001b[0m\u001b[0;34m\u001b[0m\u001b[0m\n\u001b[0;32m---> 77\u001b[0;31m             \u001b[0;32mreturn\u001b[0m \u001b[0mdatetime\u001b[0m\u001b[0;34m.\u001b[0m\u001b[0mstrptime\u001b[0m\u001b[0;34m(\u001b[0m\u001b[0mdata_nascimento_str\u001b[0m\u001b[0;34m,\u001b[0m \u001b[0;34m'%d/%m/%Y'\u001b[0m\u001b[0;34m)\u001b[0m\u001b[0;34m.\u001b[0m\u001b[0mdate\u001b[0m\u001b[0;34m(\u001b[0m\u001b[0;34m)\u001b[0m\u001b[0;34m\u001b[0m\u001b[0;34m\u001b[0m\u001b[0m\n\u001b[0m\u001b[1;32m     78\u001b[0m         \u001b[0;32melse\u001b[0m\u001b[0;34m:\u001b[0m\u001b[0;34m\u001b[0m\u001b[0;34m\u001b[0m\u001b[0m\n\u001b[1;32m     79\u001b[0m             \u001b[0;32mreturn\u001b[0m \u001b[0mdate\u001b[0m\u001b[0;34m.\u001b[0m\u001b[0mfromisoformat\u001b[0m\u001b[0;34m(\u001b[0m\u001b[0mdata_nascimento_str\u001b[0m\u001b[0;34m)\u001b[0m\u001b[0;34m\u001b[0m\u001b[0;34m\u001b[0m\u001b[0m\n",
            "\u001b[0;32m/usr/lib/python3.10/_strptime.py\u001b[0m in \u001b[0;36m_strptime_datetime\u001b[0;34m(cls, data_string, format)\u001b[0m\n\u001b[1;32m    566\u001b[0m     \"\"\"Return a class cls instance based on the input string and the\n\u001b[1;32m    567\u001b[0m     format string.\"\"\"\n\u001b[0;32m--> 568\u001b[0;31m     \u001b[0mtt\u001b[0m\u001b[0;34m,\u001b[0m \u001b[0mfraction\u001b[0m\u001b[0;34m,\u001b[0m \u001b[0mgmtoff_fraction\u001b[0m \u001b[0;34m=\u001b[0m \u001b[0m_strptime\u001b[0m\u001b[0;34m(\u001b[0m\u001b[0mdata_string\u001b[0m\u001b[0;34m,\u001b[0m \u001b[0mformat\u001b[0m\u001b[0;34m)\u001b[0m\u001b[0;34m\u001b[0m\u001b[0;34m\u001b[0m\u001b[0m\n\u001b[0m\u001b[1;32m    569\u001b[0m     \u001b[0mtzname\u001b[0m\u001b[0;34m,\u001b[0m \u001b[0mgmtoff\u001b[0m \u001b[0;34m=\u001b[0m \u001b[0mtt\u001b[0m\u001b[0;34m[\u001b[0m\u001b[0;34m-\u001b[0m\u001b[0;36m2\u001b[0m\u001b[0;34m:\u001b[0m\u001b[0;34m]\u001b[0m\u001b[0;34m\u001b[0m\u001b[0;34m\u001b[0m\u001b[0m\n\u001b[1;32m    570\u001b[0m     \u001b[0margs\u001b[0m \u001b[0;34m=\u001b[0m \u001b[0mtt\u001b[0m\u001b[0;34m[\u001b[0m\u001b[0;34m:\u001b[0m\u001b[0;36m6\u001b[0m\u001b[0;34m]\u001b[0m \u001b[0;34m+\u001b[0m \u001b[0;34m(\u001b[0m\u001b[0mfraction\u001b[0m\u001b[0;34m,\u001b[0m\u001b[0;34m)\u001b[0m\u001b[0;34m\u001b[0m\u001b[0;34m\u001b[0m\u001b[0m\n",
            "\u001b[0;32m/usr/lib/python3.10/_strptime.py\u001b[0m in \u001b[0;36m_strptime\u001b[0;34m(data_string, format)\u001b[0m\n\u001b[1;32m    350\u001b[0m                          (data_string, format))\n\u001b[1;32m    351\u001b[0m     \u001b[0;32mif\u001b[0m \u001b[0mlen\u001b[0m\u001b[0;34m(\u001b[0m\u001b[0mdata_string\u001b[0m\u001b[0;34m)\u001b[0m \u001b[0;34m!=\u001b[0m \u001b[0mfound\u001b[0m\u001b[0;34m.\u001b[0m\u001b[0mend\u001b[0m\u001b[0;34m(\u001b[0m\u001b[0;34m)\u001b[0m\u001b[0;34m:\u001b[0m\u001b[0;34m\u001b[0m\u001b[0;34m\u001b[0m\u001b[0m\n\u001b[0;32m--> 352\u001b[0;31m         raise ValueError(\"unconverted data remains: %s\" %\n\u001b[0m\u001b[1;32m    353\u001b[0m                           data_string[found.end():])\n\u001b[1;32m    354\u001b[0m \u001b[0;34m\u001b[0m\u001b[0m\n",
            "\u001b[0;31mValueError\u001b[0m: unconverted data remains: 1"
          ]
        }
      ]
    },
    {
      "cell_type": "markdown",
      "source": [
        "## CV"
      ],
      "metadata": {
        "id": "Vu_nthbkPeXM"
      }
    },
    {
      "cell_type": "code",
      "source": [
        "class CV:\n",
        "    \"\"\"Classe de código de verificação\"\"\"\n",
        "    def __init__(self):\n",
        "        pass\n",
        "\n",
        "    @staticmethod\n",
        "    def CV_base11(numero_str):\n",
        "        \"\"\"codigo_verificador_base11\"\"\"\n",
        "        if not numero_str.isnumeric():\n",
        "            return None\n",
        "\n",
        "        padrao_base = '23456789'\n",
        "        repeticoes_do_padrao = (len(numero_str) // len(padrao_base)) + 1\n",
        "        vetor_fator = padrao_base * repeticoes_do_padrao\n",
        "        vetor_fator = vetor_fator[:len(numero_str)]\n",
        "\n",
        "        sequencia_inversa = numero_str[::-1]\n",
        "        combinacao_multiplicacao = list(zip(sequencia_inversa, vetor_fator))\n",
        "        soma_dos_produtos = 0\n",
        "        for c in combinacao_multiplicacao:\n",
        "            produto = int(c[0]) * int(c[1])\n",
        "            soma_dos_produtos += produto\n",
        "\n",
        "        resto = soma_dos_produtos * 10 % 11 % 10\n",
        "        return str(resto)\n",
        "\n",
        "    @staticmethod\n",
        "    def CV_CPF(cpf_str: str):\n",
        "        \"\"\"codigo_verificador_CPF (base 11)\"\"\"\n",
        "\n",
        "        # Obtém somente os números do CPF, ignorando pontuações\n",
        "        numeros = [int(digito) for digito in cpf_str if digito.isdigit()]\n",
        "        # numeros = map( lambda d: int(d), filter( lambda d: d.isdigit(), cpf_str))  # forma funcional\n",
        "\n",
        "        # Obtém o primeiro dígito verificador\n",
        "        vetor_fator = range(10, 1, -1) # 2 - 10\n",
        "        soma_dos_produtos = sum( x*y for x,y in zip(numeros, vetor_fator) )\n",
        "        resto = soma_dos_produtos * 10 % 11 % 10\n",
        "\n",
        "        # Obtém o segundo dígito verificador\n",
        "        vetor_fator = range(11, 1, -1) # 2 - 10\n",
        "        numeros.append(resto)\n",
        "        soma_dos_produtos = sum( x*y for x,y in zip(numeros, vetor_fator) )\n",
        "        resto = soma_dos_produtos * 10 % 11 % 10\n",
        "        numeros.append(resto)\n",
        "\n",
        "        return ''.join([str(n) for n in numeros])\n",
        "\n",
        "\n",
        "    @staticmethod\n",
        "    def validar_cpf(cpf: str) -> bool:\n",
        "        \"\"\" Efetua a validação do CPF, tanto formatação quando dígito verificadores.\n",
        "\n",
        "        Parâmetros:\n",
        "            cpf (str): CPF a ser validado\n",
        "\n",
        "        Retorno:\n",
        "            bool:\n",
        "                - Falso, quando o CPF não possuir o formato 999.999.999-99;\n",
        "                - Falso, quando o CPF não possuir 11 caracteres numéricos;\n",
        "                - Falso, quando os dígitos verificadores forem inválidos;\n",
        "                - Verdadeiro, caso contrário.\n",
        "\n",
        "        Exemplos:\n",
        "\n",
        "        >>> validar_cpf('529.982.247-25')\n",
        "        True\n",
        "        >>> validar_cpf('52998224725')\n",
        "        False\n",
        "        >>> validar_cpf('111.111.111-11')\n",
        "        False\n",
        "        \"\"\"\n",
        "\n",
        "        # Verifica a formatação do CPF\n",
        "        if not re.match(r'\\d{3}\\.\\d{3}\\.\\d{3}-\\d{2}', cpf):\n",
        "            return False\n",
        "\n",
        "        # Obtém apenas os números do CPF, ignorando pontuações\n",
        "        numbers = [int(digit) for digit in cpf if digit.isdigit()]\n",
        "\n",
        "        # Verifica se o CPF possui 11 números ou se todos são iguais:\n",
        "        if len(numbers) != 11 or len(set(numbers)) == 1:\n",
        "            return False\n",
        "\n",
        "        # Validação do primeiro dígito verificador:\n",
        "        sum_of_products = sum( a*b for a, b in zip(numbers[0:9], range(10, 1, -1)) )\n",
        "        expected_digit = (sum_of_products * 10 % 11) % 10\n",
        "        if numbers[9] != expected_digit:\n",
        "            return False\n",
        "\n",
        "        # Validação do segundo dígito verificador:\n",
        "        sum_of_products = sum(a*b for a, b in zip(numbers[0:10], range(11, 1, -1)))\n",
        "        expected_digit = (sum_of_products * 10 % 11) % 10\n",
        "        if numbers[10] != expected_digit:\n",
        "            return False\n",
        "\n",
        "        return True\n",
        "\n",
        "\n",
        "\n",
        "# # CV_base11('1201611227')  # >> 3\n",
        "# numero = '529982247'\n",
        "# numero = numero + CV.CV_base11(numero)\n",
        "# numero = numero + CV.CV_base11(numero)\n",
        "# numero\n",
        "\n",
        "\n",
        "# # CV_base11('1201611227')  # >> 3\n",
        "# numero = '529982247'\n",
        "# CV_CPF(numero)\n",
        "\n",
        "# CV.CV_CPF('123'*3)  # 12312312387\n",
        "# CV.CV_CPF('123456789')  # 12345678909\n",
        "CV.CV_CPF('000000001')  # 00000000191\n",
        "# Cliente.verificador_cpf('12345678909')"
      ],
      "metadata": {
        "colab": {
          "base_uri": "https://localhost:8080/",
          "height": 35
        },
        "id": "DaMiJ2DklDzm",
        "outputId": "ec00c845-20bb-4707-e253-3e1a9abb6129"
      },
      "execution_count": null,
      "outputs": [
        {
          "output_type": "execute_result",
          "data": {
            "text/plain": [
              "'00000000191'"
            ],
            "application/vnd.google.colaboratory.intrinsic+json": {
              "type": "string"
            }
          },
          "metadata": {},
          "execution_count": 34
        }
      ]
    },
    {
      "cell_type": "markdown",
      "source": [
        "## Cadastro de Medicamentos"
      ],
      "metadata": {
        "id": "E0uaX6HUKI4e"
      }
    },
    {
      "cell_type": "code",
      "source": [
        "from __future__ import annotations\n",
        "from typing import Optional\n",
        "\n",
        "class CadastroMedicamentos:\n",
        "    def __init__(self):\n",
        "        self.__cadastro_medicamentos = []\n",
        "\n",
        "    def adicionar_medicamento(self, obj_medicamento: Medicamento) -> None:\n",
        "        \"\"\" Adiciona um objeto Medicamento ao banco de cadastros [__cadastro_medicamentos: Lista]. \"\"\"\n",
        "        self.__cadastro_medicamentos.append( obj_medicamento )\n",
        "\n",
        "    def mostrar_medicamentos(self) -> List[Medicamento]:\n",
        "        \"\"\" Retorna todos medicamentos do cadastro. \"\"\"\n",
        "        return [medicamento for medicamento in self.__cadastro_medicamentos]\n",
        "\n",
        "    def buscar_medicamento_por_cpf(self, cpf: str) -> Optional[Medicamento]:\n",
        "        \"\"\" Retorna o objeto de medicamento do CPF buscado. Caso nenhum medicamento seja encontrado\n",
        "        Será retornado None.\n",
        "\n",
        "        Parâmetros\n",
        "        ----------\n",
        "            cpf : str\n",
        "                CPF a ser buscado no cadastro de usuários.\n",
        "\n",
        "        Retorno\n",
        "        -------\n",
        "            medicamento(obj)\n",
        "                None caso não encontre nenhum clinte com o CPF.\n",
        "        \"\"\"\n",
        "\n",
        "        if cpf in self.__cadastro_medicamentos.keys():\n",
        "            return self.__cadastro_medicamentos[cpf]\n",
        "        else:\n",
        "            return None"
      ],
      "metadata": {
        "id": "aD-HHxh3KI4f"
      },
      "execution_count": null,
      "outputs": []
    },
    {
      "cell_type": "code",
      "source": [
        "class Medicamento:\n",
        "    # Cria a instância do cadastro de medicamentos\n",
        "    cadastro_medicamento = CadastroMedicamentos()\n",
        "\n",
        "    def __init__(self, nome: str, composto_principal: str, laboratorio: str, descricao: str):\n",
        "        self.nome = nome\n",
        "        self.composto_principal = composto_principal\n",
        "        self.laboratorio = laboratorio\n",
        "        self.descricao = descricao\n",
        "\n",
        "        # Adiciona no cadastro\n",
        "        self.cadastro_medicamento.adicionar_medicamento( self )\n",
        "\n",
        "\n",
        "class MedicamentoFito(Medicamento):\n",
        "    def __init__(self, nome: str, composto_principal: str, laboratorio: str, descricao: str):\n",
        "        super().__init__(nome, composto_principal, laboratorio, descricao)\n",
        "\n",
        "\n",
        "class MedicamentoQuimio(MedicamentoFito):\n",
        "    def __init__(self, nome: str, composto_principal: str, laboratorio: str, descricao: str, req_receita: str):\n",
        "        super().__init__(nome, composto_principal, laboratorio, descricao)\n",
        "        self.req_receita = req_receita"
      ],
      "metadata": {
        "id": "cW6NN1BYlRLQ"
      },
      "execution_count": null,
      "outputs": []
    },
    {
      "cell_type": "code",
      "source": [
        "# TESTE >> MEDICAMENTOS\n",
        "lista_medicamentos = [\n",
        "    {'nome': 'remedio A', 'composto_principal': 'C1', 'laboratorio': 'L1', 'descricao': 'Medicamento para dores.'},\n",
        "    {'nome': 'remedio B', 'composto_principal': 'C2', 'laboratorio': 'L2', 'descricao': 'Medicamento para dores.'},\n",
        "\n",
        "]\n",
        "\n",
        "mfA = MedicamentoFito(**lista_medicamentos[0])\n",
        "mfB = MedicamentoFito(**lista_medicamentos[1])\n",
        "\n",
        "print(mfA.nome, mfA.composto_principal, mfA.descricao, mfA.laboratorio)\n",
        "Medicamento.cadastro_medicamento.mostrar_medicamentos()"
      ],
      "metadata": {
        "colab": {
          "base_uri": "https://localhost:8080/"
        },
        "id": "9iGeGsesLpNU",
        "outputId": "5981ae30-9d3d-4268-91d3-d302dcdfdf65"
      },
      "execution_count": null,
      "outputs": [
        {
          "output_type": "stream",
          "name": "stdout",
          "text": [
            "remedio A C1 Medicamento para dores. L1\n"
          ]
        },
        {
          "output_type": "execute_result",
          "data": {
            "text/plain": [
              "[<__main__.MedicamentoFito at 0x7ed18fd64c40>,\n",
              " <__main__.MedicamentoFito at 0x7ed18fd641c0>,\n",
              " <__main__.MedicamentoFito at 0x7ed18fd67ee0>,\n",
              " <__main__.MedicamentoFito at 0x7ed18fd64310>,\n",
              " <__main__.MedicamentoFito at 0x7ed18fd65750>,\n",
              " <__main__.MedicamentoFito at 0x7ed18fd648e0>]"
            ]
          },
          "metadata": {},
          "execution_count": 71
        }
      ]
    },
    {
      "cell_type": "code",
      "source": [
        "\n",
        "\n",
        "\n",
        "class Laboratorio:\n",
        "    def __init__(self, nome, endereco, telefone, cidade, estado):\n",
        "        self.nome = nome\n",
        "        self.endereco = endereco\n",
        "        self.telefone = telefone\n",
        "        self.cidade = cidade\n",
        "        self.estado = estado\n",
        "\n"
      ],
      "metadata": {
        "id": "6fcW429KLVtZ"
      },
      "execution_count": null,
      "outputs": []
    },
    {
      "cell_type": "code",
      "source": [
        "class Vendas:\n",
        "    def __init__(self, hora, produto_vendido, cliente, valor_total):\n",
        "        self.hora = hora\n",
        "        self.produto_vendido = produto_vendido\n",
        "        self.cliente = cliente\n",
        "        self.valor_total = valor_total"
      ],
      "metadata": {
        "id": "EpuiJ8JOlSBp"
      },
      "execution_count": null,
      "outputs": []
    },
    {
      "cell_type": "markdown",
      "source": [
        "1. Buscar cliente por CPF\n",
        "2. Buscar medicamento\n",
        "    * Nome, fabricante, descrição pacial (de acordo com o tipo: quimio ou fito)\n",
        "        * Quimio: receita ou não\n",
        "3. Vender medicamento\n",
        "    * Para cliente cadastrado\n",
        "    * -20% >= 65 anos\n",
        "    * 10% compras >= 150 reais\n",
        "    * Não podem ser acumulativos\n",
        "    * Exigir receita dos remédio quimios (nome do remédio controlado)\n",
        "4. Relatório\n",
        "    * Listar clientes\n",
        "        * nome, em ordem alfabética + dadosd\n",
        "    * Listagem dos remédios por ordem alfabética\n",
        "    * Listar remédios por tipos\n",
        "    * Estatísticas do dia (ao sair do sistema)\n",
        "        * Remédios mais vendidos (qtd + valor_total)\n",
        "        * Qtd. pessoas atendidas\n",
        "        * Quimio vendidos (qtd + valor_total)\n",
        "        * Fito vendidos (qtd + valor_total)"
      ],
      "metadata": {
        "id": "oMKtUve2m0aa"
      }
    },
    {
      "cell_type": "code",
      "source": [
        "# IDrugStore.py\n",
        "class IDrugStore:\n",
        "    def __init__(self):\n",
        "        pass\n",
        "    def _consulta_de_cpf(self, cpf):\n",
        "        res_cliente = Cliente.cadastro_obj.buscar_cliente_por_cpf(cpf)\n",
        "        if res_cliente == None:\n",
        "            print('CPF buscado não encontrado!')\n",
        "        else:\n",
        "            print(res_cliente)\n",
        "            print(f'Nome do cliente: {res_cliente.nome}')\n",
        "            print(f'CPF do cliente: {res_cliente.cpf}')\n",
        "            print(f'Data de nascimento do cliente: {res_cliente.data_nascimento}')\n",
        "            print(f'Idade do cliente: {res_cliente.idade}')\n",
        "            # ÚLTIMAS COMPRAS, QUAIS LABORATÓRIOS e REMEDIOS - sumario"
      ],
      "metadata": {
        "id": "OqddSrgsQ0c1"
      },
      "execution_count": null,
      "outputs": []
    },
    {
      "cell_type": "code",
      "source": [
        "# DATAS\n",
        "from datetime import datetime, timedelta\n",
        "\n",
        "# datetime.now()\n",
        "hoje = datetime.today()\n",
        "bday = datetime.strptime('01/08/1990', '%d/%m/%Y')\n",
        "\n",
        "idade_teste = hoje.year - bday.year\n",
        "\n",
        "if bday > hoje - timedelta(days=365*idade_teste):\n",
        "    idade_teste -= 1\n",
        "\n",
        "idade_teste"
      ],
      "metadata": {
        "colab": {
          "base_uri": "https://localhost:8080/"
        },
        "id": "EKMcR5muvMUF",
        "outputId": "77d22edf-7d25-4c79-ad19-f17bacd219c8"
      },
      "execution_count": null,
      "outputs": [
        {
          "output_type": "execute_result",
          "data": {
            "text/plain": [
              "<function datetime.time>"
            ]
          },
          "metadata": {},
          "execution_count": 119
        }
      ]
    },
    {
      "cell_type": "code",
      "source": [
        "# Teste de VARIÁVEL DE CLASSE\n",
        "# cliente1.cadastro\n",
        "Cliente.cadastro_obj.buscar_cliente_por_cpf('1'*11)"
      ],
      "metadata": {
        "colab": {
          "base_uri": "https://localhost:8080/"
        },
        "id": "OE0pEs-WTAF2",
        "outputId": "c3b203ef-2dd5-4ded-e9a0-c4bbb1ed58c2"
      },
      "execution_count": null,
      "outputs": [
        {
          "output_type": "stream",
          "name": "stdout",
          "text": [
            "CPF buscado não encontrado!\n"
          ]
        }
      ]
    },
    {
      "cell_type": "markdown",
      "source": [
        "## Menu"
      ],
      "metadata": {
        "id": "TRqB61VE_kIX"
      }
    },
    {
      "cell_type": "code",
      "source": [
        "%%writefile sef_layouts.py\n",
        "# Sistema de E-Commerce de farmárcia (sef)\n",
        "# Classes com os layouts para a UI\n",
        "\n",
        "_layout_menu = \"\"\"\n",
        "Escolha a opção que deseja realizar:\n",
        "\n",
        "    1 - Realizar venda.\n",
        "    2 - Buscar medicamento.\n",
        "    3 - Buscar cliente por CPF.\n",
        "    4 - Gerar relatório das vendas.\n",
        "\"\"\"\n",
        "\n",
        "class layout_menu:\n",
        "    def __init__(self):\n",
        "        self._layout_menu = _layout_menu\n",
        "\n",
        "    def __repr__(self) -> str:\n",
        "        return self._layout_menu\n",
        ""
      ],
      "metadata": {
        "colab": {
          "base_uri": "https://localhost:8080/"
        },
        "id": "KNf1RJaABGlZ",
        "outputId": "15a38d96-1d54-4592-c29a-413de30507cf"
      },
      "execution_count": 8,
      "outputs": [
        {
          "output_type": "stream",
          "name": "stdout",
          "text": [
            "Overwriting sef_layouts.py\n"
          ]
        }
      ]
    },
    {
      "cell_type": "code",
      "source": [
        "from sef_layouts import layout_menu\n",
        "\n",
        "\n",
        "def mostrar_menu():\n",
        "    # Exibe layout predefinido do menu\n",
        "    layout = layout_menu()\n",
        "    print(layout)\n",
        "\n",
        "\n",
        "\n",
        "\n",
        "mostrar_menu()\n",
        "\n",
        "# if __file__ == '__main__':\n",
        "    # print('======== SISTEMA DE E-COMMERCE DE FARMÁRCIA ========')\n",
        "    # mostrar_menu()"
      ],
      "metadata": {
        "colab": {
          "base_uri": "https://localhost:8080/"
        },
        "id": "9a1LQ9_O_mlg",
        "outputId": "dff69304-bf41-4cb7-9983-7a74074c6b06"
      },
      "execution_count": 9,
      "outputs": [
        {
          "output_type": "stream",
          "name": "stdout",
          "text": [
            "======== SISTEMA DE E-COMMERCE DE FARMÁRCIA ========\n",
            "\"\n",
            "Escolha a opção que deseja realizar:\n",
            "\n",
            "    1 - Realizar venda.\n",
            "    2 - Buscar medicamento.\n",
            "    3 - Buscar cliente por CPF.\n",
            "    4 - Gerar relatório das vendas.\n",
            "\n"
          ]
        }
      ]
    },
    {
      "cell_type": "markdown",
      "source": [
        "# VIMEO"
      ],
      "metadata": {
        "id": "zowB58Ar-Y4f"
      }
    },
    {
      "cell_type": "code",
      "source": [
        "!ffplay -i \"https://27vod-adaptive.akamaized.net/exp=1691196667~acl=%2F1287e385-9f58-4fa1-8212-58c5b64e3aaa%2F%2A~hmac=0576d7c640615f0dd826d3124e7b956c3b8c94a1c268832c3a93846a3fc8c0b2/1287e385-9f58-4fa1-8212-58c5b64e3aaa/sep/video/059d9878,3b0782d4,7743999a,77d229d8,c590aaa5/audio/362f85c5/master.m3u8?query_string_ranges=1\""
      ],
      "metadata": {
        "colab": {
          "base_uri": "https://localhost:8080/"
        },
        "id": "i1TWu8-g-aRD",
        "outputId": "23813c98-30d6-4bf6-d6c1-0f714f0f63a9"
      },
      "execution_count": null,
      "outputs": [
        {
          "output_type": "stream",
          "name": "stdout",
          "text": [
            "ffplay version 4.4.2-0ubuntu0.22.04.1 Copyright (c) 2003-2021 the FFmpeg developers\n",
            "  built with gcc 11 (Ubuntu 11.2.0-19ubuntu1)\n",
            "  configuration: --prefix=/usr --extra-version=0ubuntu0.22.04.1 --toolchain=hardened --libdir=/usr/lib/x86_64-linux-gnu --incdir=/usr/include/x86_64-linux-gnu --arch=amd64 --enable-gpl --disable-stripping --enable-gnutls --enable-ladspa --enable-libaom --enable-libass --enable-libbluray --enable-libbs2b --enable-libcaca --enable-libcdio --enable-libcodec2 --enable-libdav1d --enable-libflite --enable-libfontconfig --enable-libfreetype --enable-libfribidi --enable-libgme --enable-libgsm --enable-libjack --enable-libmp3lame --enable-libmysofa --enable-libopenjpeg --enable-libopenmpt --enable-libopus --enable-libpulse --enable-librabbitmq --enable-librubberband --enable-libshine --enable-libsnappy --enable-libsoxr --enable-libspeex --enable-libsrt --enable-libssh --enable-libtheora --enable-libtwolame --enable-libvidstab --enable-libvorbis --enable-libvpx --enable-libwebp --enable-libx265 --enable-libxml2 --enable-libxvid --enable-libzimg --enable-libzmq --enable-libzvbi --enable-lv2 --enable-omx --enable-openal --enable-opencl --enable-opengl --enable-sdl2 --enable-pocketsphinx --enable-librsvg --enable-libmfx --enable-libdc1394 --enable-libdrm --enable-libiec61883 --enable-chromaprint --enable-frei0r --enable-libx264 --enable-shared\n",
            "  libavutil      56. 70.100 / 56. 70.100\n",
            "  libavcodec     58.134.100 / 58.134.100\n",
            "  libavformat    58. 76.100 / 58. 76.100\n",
            "  libavdevice    58. 13.100 / 58. 13.100\n",
            "  libavfilter     7.110.100 /  7.110.100\n",
            "  libswscale      5.  9.100 /  5.  9.100\n",
            "  libswresample   3.  9.100 /  3.  9.100\n",
            "  libpostproc    55.  9.100 / 55.  9.100\n",
            "error: XDG_RUNTIME_DIR not set in the environment.\n",
            "\u001b[4;31mCould not initialize SDL - No available video device\n",
            "\u001b[0m\u001b[4;31m(Did you set the DISPLAY variable?)\n",
            "\u001b[0m"
          ]
        }
      ]
    },
    {
      "cell_type": "code",
      "source": [
        "!pip install m3u8"
      ],
      "metadata": {
        "colab": {
          "base_uri": "https://localhost:8080/"
        },
        "id": "0kSVgpZjA-UI",
        "outputId": "77947160-85d6-4c80-a044-e7e9ed6c2e8e"
      },
      "execution_count": null,
      "outputs": [
        {
          "output_type": "stream",
          "name": "stdout",
          "text": [
            "Collecting m3u8\n",
            "  Downloading m3u8-3.5.0-py3-none-any.whl (24 kB)\n",
            "Collecting iso8601 (from m3u8)\n",
            "  Downloading iso8601-2.0.0-py3-none-any.whl (7.5 kB)\n",
            "Installing collected packages: iso8601, m3u8\n",
            "Successfully installed iso8601-2.0.0 m3u8-3.5.0\n"
          ]
        }
      ]
    },
    {
      "cell_type": "code",
      "source": [
        "import m3u8\n",
        "\n",
        "uri = 'https://27vod-adaptive.akamaized.net/exp=1691196667~acl=%2F1287e385-9f58-4fa1-8212-58c5b64e3aaa%2F%2A~hmac=0576d7c640615f0dd826d3124e7b956c3b8c94a1c268832c3a93846a3fc8c0b2/1287e385-9f58-4fa1-8212-58c5b64e3aaa/sep/video/059d9878,3b0782d4,7743999a,77d229d8,c590aaa5/audio/362f85c5/master.m3u8?query_string_ranges=1'\n",
        "playlist = m3u8.load(uri)  # this could also be an absolute filename\n",
        "\n",
        "print(playlist.dumps())"
      ],
      "metadata": {
        "colab": {
          "base_uri": "https://localhost:8080/"
        },
        "id": "ZLm8PYfABB0c",
        "outputId": "38be9f71-20aa-49b2-cda9-dcd23fc352d5"
      },
      "execution_count": null,
      "outputs": [
        {
          "output_type": "stream",
          "name": "stdout",
          "text": [
            "#EXTM3U\n",
            "#EXT-X-INDEPENDENT-SEGMENTS\n",
            "#EXT-X-MEDIA:URI=\"../../../../audio/362f85c5/playlist.m3u8?query_string_ranges=1\",TYPE=AUDIO,GROUP-ID=\"audio-high\",NAME=\"audio\",DEFAULT=YES,AUTOSELECT=YES,CHANNELS=\"2\"\n",
            "#EXT-X-STREAM-INF:CLOSED-CAPTIONS=NONE,BANDWIDTH=971623,AVERAGE-BANDWIDTH=465000,RESOLUTION=640x360,FRAME-RATE=29.97,CODECS=\"avc1.64001E,mp4a.40.2\",AUDIO=\"audio-high\"\n",
            "../../../059d9878/playlist.m3u8?query_string_ranges=1\n",
            "#EXT-X-STREAM-INF:CLOSED-CAPTIONS=NONE,BANDWIDTH=1685241,AVERAGE-BANDWIDTH=705000,RESOLUTION=960x540,FRAME-RATE=29.97,CODECS=\"avc1.64001F,mp4a.40.2\",AUDIO=\"audio-high\"\n",
            "../../../3b0782d4/playlist.m3u8?query_string_ranges=1\n",
            "#EXT-X-STREAM-INF:CLOSED-CAPTIONS=NONE,BANDWIDTH=550730,AVERAGE-BANDWIDTH=335000,RESOLUTION=426x240,FRAME-RATE=29.97,CODECS=\"avc1.640015,mp4a.40.2\",AUDIO=\"audio-high\"\n",
            "../../../7743999a/playlist.m3u8?query_string_ranges=1\n",
            "#EXT-X-STREAM-INF:CLOSED-CAPTIONS=NONE,BANDWIDTH=4273851,AVERAGE-BANDWIDTH=1309000,RESOLUTION=1920x1080,FRAME-RATE=29.97,CODECS=\"avc1.64002A,mp4a.40.2\",AUDIO=\"audio-high\"\n",
            "../../../77d229d8/playlist.m3u8?query_string_ranges=1\n",
            "#EXT-X-STREAM-INF:CLOSED-CAPTIONS=NONE,BANDWIDTH=2512202,AVERAGE-BANDWIDTH=905000,RESOLUTION=1280x720,FRAME-RATE=29.97,CODECS=\"avc1.640020,mp4a.40.2\",AUDIO=\"audio-high\"\n",
            "../../../c590aaa5/playlist.m3u8?query_string_ranges=1\n",
            "\n"
          ]
        }
      ]
    },
    {
      "cell_type": "code",
      "source": [
        "# VÍDEO\n",
        "URI_LINK = uri = 'https://27vod-adaptive.akamaized.net/exp=1691196667~acl=%2F1287e385-9f58-4fa1-8212-58c5b64e3aaa%2F%2A~hmac=0576d7c640615f0dd826d3124e7b956c3b8c94a1c268832c3a93846a3fc8c0b2/1287e385-9f58-4fa1-8212-58c5b64e3aaa/sep/video/059d9878,3b0782d4,7743999a,77d229d8,c590aaa5/audio/362f85c5/master.m3u8?query_string_ranges=1'"
      ],
      "metadata": {
        "id": "biuYX9BUPLMY"
      },
      "execution_count": null,
      "outputs": []
    },
    {
      "cell_type": "code",
      "source": [
        "# Baixa vídeo\n",
        "!ffmpeg -i $URI_LINK -c copy OUTPUT.ts"
      ],
      "metadata": {
        "id": "6kq_vFlNCZX7"
      },
      "execution_count": null,
      "outputs": []
    },
    {
      "cell_type": "code",
      "source": [
        "!ffmpeg -i OUTPUT.ts -c:v libx264 -c:a aac -strict experimental video_output.mp4"
      ],
      "metadata": {
        "id": "MYZPrmqcIH__"
      },
      "execution_count": null,
      "outputs": []
    },
    {
      "cell_type": "code",
      "source": [
        "from google.colab import drive\n",
        "drive.mount('/content/drive')"
      ],
      "metadata": {
        "id": "WjYO5ryWM5HT",
        "colab": {
          "base_uri": "https://localhost:8080/"
        },
        "outputId": "815c4cbe-0b22-458a-ce72-60d02f55d72c"
      },
      "execution_count": null,
      "outputs": [
        {
          "output_type": "stream",
          "name": "stdout",
          "text": [
            "Mounted at /content/drive\n"
          ]
        }
      ]
    },
    {
      "cell_type": "code",
      "source": [
        "!ls"
      ],
      "metadata": {
        "id": "VLWEtzNAM_eN",
        "colab": {
          "base_uri": "https://localhost:8080/"
        },
        "outputId": "f14cef70-5ec8-486d-868b-96517a105c3a"
      },
      "execution_count": null,
      "outputs": [
        {
          "output_type": "stream",
          "name": "stdout",
          "text": [
            "drive  sample_data\n"
          ]
        }
      ]
    },
    {
      "cell_type": "code",
      "source": [
        "!cp \"/content/OUTPUT.ts\" \"/content/drive/MyDrive/__NOW__/YOUTUBE/\""
      ],
      "metadata": {
        "id": "8AN_BQ-wO0VB"
      },
      "execution_count": null,
      "outputs": []
    },
    {
      "cell_type": "code",
      "source": [
        "# Download - mp4\n",
        "!ffmpeg -loglevel error -i $URI_LINK -c copy OUTPUT_MP4.mp4"
      ],
      "metadata": {
        "id": "vwn96SmbPxm-"
      },
      "execution_count": null,
      "outputs": []
    },
    {
      "cell_type": "code",
      "source": [
        "# Transferencia do arquivo\n",
        "!cp \"/content/OUTPUT_MP4.mp4\" \"/content/drive/MyDrive/__NOW__/YOUTUBE/\""
      ],
      "metadata": {
        "id": "9cxyYUrwT9sT"
      },
      "execution_count": null,
      "outputs": []
    }
  ]
}