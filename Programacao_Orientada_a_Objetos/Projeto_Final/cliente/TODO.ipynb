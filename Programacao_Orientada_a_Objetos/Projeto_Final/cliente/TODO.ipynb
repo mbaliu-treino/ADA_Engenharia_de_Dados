{
 "cells": [
  {
   "cell_type": "markdown",
   "metadata": {},
   "source": [
    "# TODO PKG cliente"
   ]
  },
  {
   "cell_type": "markdown",
   "metadata": {},
   "source": [
    "## Relação entre Classes (Componentes e Cadastros)"
   ]
  },
  {
   "cell_type": "code",
   "execution_count": null,
   "metadata": {},
   "outputs": [],
   "source": [
    "cliente_A = Cliente(.....)\n",
    "\n",
    "# Não foi adicionado ao sistema de cadastros\n",
    "\n",
    "cadastro = SistemaExistente()  # carrega o sistema já inicializado\n",
    "\n",
    "id_novo_cliente = cadastro.add_cliente( cliente_A )\n",
    "cliente_A.add_id( cliente_A )\n",
    "\n",
    "# OU\n",
    "\n",
    "cliente_A.add_id( cadastro.add_cliente( cliente_A ) )\n",
    "\n",
    "\n",
    "# Adiciona o cliente"
   ]
  }
 ],
 "metadata": {
  "kernelspec": {
   "display_name": "base",
   "language": "python",
   "name": "python3"
  },
  "language_info": {
   "name": "python",
   "version": "3.9.13"
  },
  "orig_nbformat": 4
 },
 "nbformat": 4,
 "nbformat_minor": 2
}
