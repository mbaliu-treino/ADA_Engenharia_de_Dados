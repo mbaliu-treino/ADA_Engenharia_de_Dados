{
 "cells": [
  {
   "cell_type": "markdown",
   "metadata": {},
   "source": [
    "# TODO"
   ]
  },
  {
   "cell_type": "markdown",
   "metadata": {},
   "source": [
    "## Funcionlidades\n",
    "\n",
    "A farmácia precisa dos seguintes serviços (que devem ser disponibilizados para escolha do usuário através de um menu feito no console. Não é necessário implementar interface gráfica):\n",
    "\n",
    "1. <s>Deverá conter um **cadastro** de clientes, no qual a busca se dará por CPF (sem pontuação)</s>\n",
    "\n",
    "1. Deverá conter um **cadastro** de medicamentos, no qual a busca se dará pelo nome, fabricante ou descrição parcial de acordo com o tipo de medicamento. Os medicamentos poderão ser Quimioterápicos ou Fitoterápicos. Os medicamentos Quimioterápicos deverão ter a informação sobre se são vendidos apenas mediante receita ou não (Ex: remédios tarja preta e antibióticos).\n",
    "\n",
    "1. Através do sistema deverá ser possível efetuar **vendas**, e estas serão realizadas apenas para clientes cadastrados no sistema.\n",
    "\n",
    "    1. Durante a **venda**, haverá 20% de desconto para clientes idosos (acima de 65 anos), e 10% de desconto nas compras acima de 150 reais. Os descontos não são cumulativos, e deve ser dado sempre o desconto mais alto caso haja conflito.\n",
    "\n",
    "    1. Durante a **venda** de remédios Quimioterápicos, se um dos remédios for do tipo controlado (que exige apresentação de receita para a compra), o sistema deverá emitir um alerta ao atendente questionando se o mesmo verificou a receita do respectivo remédio. Deverá ser informado no alerta o nome do remédio controlado.\n",
    "\n",
    "1. Deverá ser possível emitir **relatórios**:\n",
    "    - De listagem de clientes, cadastrados por nome, em ordem alfabética crescrente (A-Z), especificando os dados do cliente\n",
    "    - De listagem de medicamentos, por ordem alfabética\n",
    "    - De listagem de medicamentos Quimioterápicos ou Fitoterápicos\n",
    "    - Estatísticas dos atendimentos realizados no dia (considere o dia como o tempo que o menu está em execução. Quando for sair do programa, deve ser emitido este relatório) contendo:\n",
    "        - Remédio mais vendido, contendo a quantidade e o valor total\n",
    "        - Quantidade de pessoas atendidas\n",
    "        - Número de remédios Quimioterápicos vendidos no dia, contendo a quantidade e o valor\n",
    "        - Número de remédios Fitoterápicos vendidos no dia, contendo a quantidade e o valor\n",
    "\n",
    "\n"
   ]
  },
  {
   "cell_type": "markdown",
   "metadata": {},
   "source": [
    "# TODO PKG cliente"
   ]
  },
  {
   "cell_type": "markdown",
   "metadata": {},
   "source": [
    "* Adicionar ID ao Cliente\n",
    "* Remover Cliente do cadastro (remoção lógica)\n",
    "* Remover produto do cadastro"
   ]
  },
  {
   "cell_type": "markdown",
   "metadata": {},
   "source": [
    "## Relação entre Classes (Componentes e Cadastros)"
   ]
  },
  {
   "cell_type": "code",
   "execution_count": null,
   "metadata": {},
   "outputs": [],
   "source": [
    "cliente_A = Cliente(.....)\n",
    "\n",
    "# Não foi adicionado ao sistema de cadastros\n",
    "\n",
    "cadastro = SistemaExistente()  # carrega o sistema já inicializado\n",
    "\n",
    "id_novo_cliente = cadastro.add_cliente( cliente_A )\n",
    "cliente_A.add_id( cliente_A )\n",
    "\n",
    "# OU\n",
    "\n",
    "cliente_A.add_id( cadastro.add_cliente( cliente_A ) )\n",
    "\n",
    "\n",
    "# Adiciona o cliente"
   ]
  }
 ],
 "metadata": {
  "kernelspec": {
   "display_name": "base",
   "language": "python",
   "name": "python3"
  },
  "language_info": {
   "name": "python",
   "version": "3.9.13"
  },
  "orig_nbformat": 4
 },
 "nbformat": 4,
 "nbformat_minor": 2
}
